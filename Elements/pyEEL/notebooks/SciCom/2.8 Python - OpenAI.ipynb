{
 "cells": [
  {
   "cell_type": "markdown",
   "metadata": {},
   "source": [
    "# Python: Using other python AI LLM packages - OpenAI & EmbedChain examples"
   ]
  },
  {
   "cell_type": "markdown",
   "metadata": {},
   "source": [
    "### *Copyright 2021-today Dr. George Papagiannakis,  papagian@csd.uoc.gr*\n",
    "*All Rights Reserved*\n",
    "### *University of Crete & Foundation for Research & Technology - Hellas (FORTH)*"
   ]
  },
  {
   "cell_type": "markdown",
   "metadata": {},
   "source": [
    "### example OpenAI script"
   ]
  },
  {
   "cell_type": "markdown",
   "metadata": {},
   "source": [
    "you need to have an OpenAI account and an API key to run this script. For more help on that please check here: https://beta.openai.com/docs/developer-quickstart/your-api-keys . \n",
    "\n",
    "`pip install openai` to install the OpenAI python package."
   ]
  },
  {
   "cell_type": "code",
   "execution_count": null,
   "metadata": {},
   "outputs": [],
   "source": [
    "#general imports\n",
    "# import openai and dependencies\n",
    "import os\n",
    "import openai\n",
    "openai.api_key = os.getenv(\"OPENAI_API_KEY\")\n",
    "openai.Model.list()"
   ]
  },
  {
   "cell_type": "code",
   "execution_count": 2,
   "metadata": {},
   "outputs": [
    {
     "name": "stdout",
     "output_type": "stream",
     "text": [
      "Welcome to ACM SIGGRAPH 2023! Today, we embark on a journey of hope and innovation in the realm of\n",
      "computational medical extended reality. Harnessing the power of technology, we merge the worlds of\n",
      "healthcare and virtual reality, creating groundbreaking solutions to heal and elevate human lives.\n",
      "Through immersive experiences and data-driven simulations, we redefine the boundaries of medical\n",
      "advancements. Let us embrace this fusion of art and science, and together, we open doors to\n",
      "personalized therapies, surgical training, mental health interventions, and so much more. Let our\n",
      "collective ingenuity inspire a healthier future, as we unlock the potential of computational medical\n",
      "extended reality.\n"
     ]
    }
   ],
   "source": [
    "import textwrap\n",
    "# ask ChatGPT via its API and get a response\n",
    "response = openai.ChatCompletion.create(\n",
    "    model = \"gpt-3.5-turbo\",\n",
    "    messages=[\n",
    "        {\"role\":\"system\", \"content\": \"You are a helpful assistant.\"},\n",
    "        {\"role\":\"user\", \"content\": \"Can you say 80 words to inspire the audience of ACM SIGGRAPH 2023 about computational medical extended reality?\"},\n",
    "        ] \n",
    "    )\n",
    "chatReply = response['choices'][0]['message']['content']\n",
    "print(textwrap.fill(chatReply, width=100))"
   ]
  },
  {
   "cell_type": "code",
   "execution_count": 3,
   "metadata": {},
   "outputs": [
    {
     "name": "stdout",
     "output_type": "stream",
     "text": [
      "Ah, computational medical extended reality, a fascinating concept it is! In the realm of medicine,\n",
      "it is, hmm.   Imagine, you must, a merging of the digital and physical worlds, a synergy it creates.\n",
      "Through the power of computational technology, medical knowledge and reality are intertwined, they\n",
      "become.   With extended reality, a new dimension is added, a virtual realm it is. Through this\n",
      "realm, doctors and medical professionals can explore, they can. Visualize complex anatomical\n",
      "structures, they can, as if they were right before their eyes.   But, computational power, it does\n",
      "not stop there. It aids in diagnosis, it does. By analyzing vast amounts of medical data, patterns\n",
      "and insights it uncovers. Diseases and conditions, it helps to detect, it does.   Treatment, it\n",
      "enhances as well. Through simulations and virtual environments, therapies can be tested, they can.\n",
      "Surgeons can practice intricate procedures, they can, without any harm to patients.   In the realm\n",
      "of medical education, computational medical extended reality, it revolutionizes. Students can\n",
      "immerse themselves in lifelike scenarios, they can. Learn and practice, they can, without the need\n",
      "for real patients.   A powerful tool, computational medical extended reality is. Transforming the\n",
      "way we understand, diagnose, and treat medical conditions, it is. A force for good in the world of\n",
      "medicine, it shall be.\n"
     ]
    }
   ],
   "source": [
    "import textwrap\n",
    "\n",
    "# example with a system message\n",
    "MODEL = \"gpt-3.5-turbo\"\n",
    "response = openai.ChatCompletion.create(\n",
    "    model=MODEL,\n",
    "    messages=[\n",
    "        {\"role\": \"system\", \"content\": \"You are a helpful assistant.\"},\n",
    "        {\"role\": \"user\", \"content\": \"Explain computational medical extended reality in the style of Yoda from Star Wars.\"},\n",
    "    ],\n",
    "    temperature=0,\n",
    ")\n",
    "chatReply = response['choices'][0]['message']['content']\n",
    "print(textwrap.fill(chatReply, width=100))"
   ]
  },
  {
   "cell_type": "markdown",
   "metadata": {},
   "source": [
    "## example of embedchain script\n",
    "`pip install embedchain` to install the python package\n"
   ]
  },
  {
   "cell_type": "code",
   "execution_count": 4,
   "metadata": {},
   "outputs": [
    {
     "name": "stdout",
     "output_type": "stream",
     "text": [
      "Successfully saved https://en.wikipedia.org/wiki/Elon_Musk (DataType.WEB_PAGE). New chunks count: 353\n"
     ]
    }
   ],
   "source": [
    "# test example\n",
    "import os\n",
    "\n",
    "from embedchain import App\n",
    "\n",
    "#os.environ[\"OPENAI_API_KEY\"] = \"xxx\"\n",
    "import openai\n",
    "openai.api_key = os.getenv(\"OPENAI_API_KEY\")\n",
    "elon_musk_bot = App()\n",
    "\n",
    "# Embed Online Resources\n",
    "elon_musk_bot.add(\"https://en.wikipedia.org/wiki/Elon_Musk\")\n",
    "elon_musk_bot.add(\"https://www.tesla.com/elon-musk\")\n",
    "\n",
    "response = elon_musk_bot.query(\"How many companies does Elon Musk run?\")\n",
    "print(response)"
   ]
  },
  {
   "cell_type": "markdown",
   "metadata": {},
   "source": [
    "### use `enmbedchain`` on the Elements project"
   ]
  },
  {
   "cell_type": "code",
   "execution_count": null,
   "metadata": {},
   "outputs": [
    {
     "name": "stdout",
     "output_type": "stream",
     "text": [
      "All data from https://elementsproject.readthedocs.io/en/latest/index.html already exists in the database.\n",
      "All data from https://arxiv.org/pdf/2302.07691.pdf already exists in the database.\n",
      "To create a system for 3D character animation using pyECSS and pyGLV, you can follow these steps:\n",
      "\n",
      "1. Import the necessary packages:\n",
      "```python\n",
      "from pyECSS import System\n",
      "from pyGLV import RenderMesh, BasicTransform\n",
      "```\n",
      "\n",
      "2. Create a new class for your animation system that inherits from the `System` class:\n",
      "```python\n",
      "class CharacterAnimationSystem(System):\n",
      "    def __init__(self):\n",
      "        super().__init__()\n",
      "```\n",
      "\n",
      "3. Implement the `update` method in your system class. This method will be called every frame to update the character's animation:\n",
      "```python\n",
      "    def update(self, dt):\n",
      "        # Get all entities with the required components\n",
      "        entities = self.get_entities_with_components(RenderMesh, BasicTransform)\n",
      "\n",
      "        # Update the animation for each entity\n",
      "        for entity in entities:\n",
      "            render_mesh = entity.get_component(RenderMesh)\n",
      "            transform = entity.get_component(BasicTransform)\n",
      "\n",
      "            # Perform animation calculations and update the render mesh and transform properties accordingly\n",
      "            # Example:\n",
      "            render_mesh.animation_frame += 1\n",
      "            transform.rotation += 0.1\n",
      "```\n",
      "\n",
      "4. Create an instance of your animation system and add it to your pyECSS scenegraph:\n",
      "```python\n",
      "animation_system = CharacterAnimationSystem()\n",
      "scene.add_system(animation_system)\n",
      "```\n",
      "\n",
      "5. Run your pyECSS scenegraph update loop to continuously update the animation:\n",
      "```python\n",
      "while True:\n",
      "    dt = # calculate the time since the last frame\n",
      "    scene.update(dt)\n",
      "```\n",
      "\n",
      "Note: The code example provided is a basic implementation to give you an idea of how to create a system for 3D character animation using pyECSS and pyGLV. You will need to customize it according to your specific requirements and the structure of your character animation data.\n"
     ]
    }
   ],
   "source": [
    "import os\n",
    "\n",
    "from embedchain import App\n",
    "import openai\n",
    "openai.api_key = os.getenv(\"OPENAI_API_KEY\")\n",
    "elements_copilot = App()\n",
    "\n",
    "# Embed Online Resources\n",
    "elements_copilot.add(\"https://elementsproject.readthedocs.io/en/latest/index.html\")\n",
    "elements_copilot.add(\"https://arxiv.org/pdf/2302.07691.pdf\")\n",
    "\n",
    "response = elements_copilot.query(\"how can I create a system for 3D character animation using pyECSS and pyGLV? please provide a code example\")\n",
    "print(response)"
   ]
  }
 ],
 "metadata": {
  "kernelspec": {
   "display_name": "Python 3 (ipykernel)",
   "language": "python",
   "name": "python3"
  },
  "language_info": {
   "codemirror_mode": {
    "name": "ipython",
    "version": 3
   },
   "file_extension": ".py",
   "mimetype": "text/x-python",
   "name": "python",
   "nbconvert_exporter": "python",
   "pygments_lexer": "ipython3",
   "version": "3.8.18"
  }
 },
 "nbformat": 4,
 "nbformat_minor": 2
}
